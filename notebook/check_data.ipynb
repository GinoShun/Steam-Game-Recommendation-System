{
 "cells": [
  {
   "cell_type": "code",
   "execution_count": 1,
   "metadata": {},
   "outputs": [
    {
     "name": "stdout",
     "output_type": "stream",
     "text": [
      "Intel MKL WARNING: Support of Intel(R) Streaming SIMD Extensions 4.2 (Intel(R) SSE4.2) enabled only processors has been deprecated. Intel oneAPI Math Kernel Library 2025.0 will require Intel(R) Advanced Vector Extensions (Intel(R) AVX) instructions.\n",
      "Intel MKL WARNING: Support of Intel(R) Streaming SIMD Extensions 4.2 (Intel(R) SSE4.2) enabled only processors has been deprecated. Intel oneAPI Math Kernel Library 2025.0 will require Intel(R) Advanced Vector Extensions (Intel(R) AVX) instructions.\n"
     ]
    }
   ],
   "source": [
    "# 数据处理\n",
    "import pandas as pd\n",
    "import numpy as np\n",
    "import json\n",
    "\n",
    "from sklearn.decomposition import TruncatedSVD\n",
    "from scipy.sparse import csr_matrix\n",
    "\n",
    "\n",
    "# 自然语言处理\n",
    "from sklearn.feature_extraction.text import TfidfVectorizer\n",
    "from sklearn.metrics.pairwise import cosine_similarity\n",
    "\n",
    "# 推荐系统构建\n",
    "from sklearn.model_selection import train_test_split\n",
    "from sklearn.decomposition import TruncatedSVD\n",
    "from scipy.sparse import csr_matrix\n",
    "\n",
    "# 数据可视化（可选）\n",
    "import matplotlib.pyplot as plt\n",
    "import seaborn as sns\n"
   ]
  },
  {
   "cell_type": "code",
   "execution_count": 2,
   "metadata": {},
   "outputs": [],
   "source": [
    "\n",
    "# 读取 CSV 文件\n",
    "games_df = pd.read_csv('../data/games.csv')\n",
    "users_df = pd.read_csv('../data/users.csv')\n",
    "recommendations_df = pd.read_csv('../data/recommendations.csv')\n",
    "\n",
    "# 读取 JSON 文件\n",
    "games_metadata = []\n",
    "with open('../data/games_metadata.json', 'r') as f:\n",
    "    for line in f:\n",
    "        games_metadata.append(json.loads(line))\n",
    "\n",
    "# 转换 JSON 文件为 DataFrame\n",
    "games_metadata_df = pd.json_normalize(games_metadata)\n"
   ]
  },
  {
   "cell_type": "code",
   "execution_count": 3,
   "metadata": {},
   "outputs": [
    {
     "name": "stdout",
     "output_type": "stream",
     "text": [
      "   app_id                              title date_release   win    mac  linux  \\\n",
      "0   13500  Prince of Persia: Warrior Within™   2008-11-21  True  False  False   \n",
      "1   22364            BRINK: Agents of Change   2011-08-03  True  False  False   \n",
      "2  113020       Monaco: What's Yours Is Mine   2013-04-24  True   True   True   \n",
      "3  226560                 Escape Dead Island   2014-11-18  True  False  False   \n",
      "4  249050            Dungeon of the ENDLESS™   2014-10-27  True   True  False   \n",
      "\n",
      "          rating  positive_ratio  user_reviews  price_final  price_original  \\\n",
      "0  Very Positive              84          2199         9.99            9.99   \n",
      "1       Positive              85            21         2.99            2.99   \n",
      "2  Very Positive              92          3722        14.99           14.99   \n",
      "3          Mixed              61           873        14.99           14.99   \n",
      "4  Very Positive              88          8784        11.99           11.99   \n",
      "\n",
      "   discount  steam_deck                                        description  \\\n",
      "0       0.0        True  Enter the dark underworld of Prince of Persia ...   \n",
      "1       0.0        True                                                      \n",
      "2       0.0        True  Monaco: What's Yours Is Mine is a single playe...   \n",
      "3       0.0        True  Escape Dead Island is a Survival-Mystery adven...   \n",
      "4       0.0        True  Dungeon of the Endless is a Rogue-Like Dungeon...   \n",
      "\n",
      "                                                tags  \n",
      "0  [Action, Adventure, Parkour, Third Person, Gre...  \n",
      "1                                           [Action]  \n",
      "2  [Co-op, Stealth, Indie, Heist, Local Co-Op, St...  \n",
      "3  [Zombies, Adventure, Survival, Action, Third P...  \n",
      "4  [Roguelike, Strategy, Tower Defense, Pixel Gra...  \n"
     ]
    }
   ],
   "source": [
    "# 将 games_df 和 games_metadata_df 按照 app_id 合并\n",
    "merged_games_df = pd.merge(games_df, games_metadata_df, on='app_id', how='inner')\n",
    "\n",
    "# 查看合并后的数据结构\n",
    "print(merged_games_df.head())\n"
   ]
  },
  {
   "cell_type": "code",
   "execution_count": 4,
   "metadata": {},
   "outputs": [
    {
     "name": "stderr",
     "output_type": "stream",
     "text": [
      "/Users/yulindong/opt/anaconda3/lib/python3.9/site-packages/pandas/core/reshape/reshape.py:134: PerformanceWarning: The following operation may generate 518305628990 cells in the resulting pandas object.\n",
      "  warnings.warn(\n"
     ]
    }
   ],
   "source": [
    "# 创建用户-游戏交互矩阵，推荐为1，不推荐为0\n",
    "user_game_matrix = recommendations_df.pivot_table(index='user_id', columns='app_id', values='is_recommended')\n",
    "\n",
    "# 填充缺失值为0\n",
    "user_game_matrix = user_game_matrix.fillna(0)\n",
    "\n",
    "# 查看矩阵的形状\n",
    "print(user_game_matrix.shape)\n",
    "\n",
    "# 将矩阵转换为稀疏矩阵以提高计算效率\n",
    "user_game_sparse_matrix = csr_matrix(user_game_matrix)\n"
   ]
  },
  {
   "cell_type": "code",
   "execution_count": null,
   "metadata": {},
   "outputs": [],
   "source": [
    "# 使用 Truncated SVD 进行矩阵分解\n",
    "svd = TruncatedSVD(n_components=50, random_state=42)  # n_components 是降维后的维度\n",
    "user_game_matrix_svd = svd.fit_transform(user_game_sparse_matrix)\n",
    "\n",
    "# 查看降维后的矩阵形状\n",
    "print(user_game_matrix_svd.shape)\n"
   ]
  },
  {
   "cell_type": "code",
   "execution_count": null,
   "metadata": {},
   "outputs": [],
   "source": [
    "# 定义基于用户的推荐系统\n",
    "def recommend_games_for_user(user_id, n_recommendations=10):\n",
    "    # 确保用户存在\n",
    "    if user_id not in user_game_matrix.index:\n",
    "        print(f\"用户 {user_id} 不存在！\")\n",
    "        return []\n",
    "\n",
    "    # 找到用户的行索引\n",
    "    user_idx = user_game_matrix.index.get_loc(user_id)\n",
    "    \n",
    "    # 获取用户的矩阵表示\n",
    "    user_vector = user_game_matrix_svd[user_idx]\n",
    "    \n",
    "    # 计算用户与游戏之间的相似性\n",
    "    game_similarities = cosine_similarity([user_vector], user_game_matrix_svd.T).flatten()\n",
    "    \n",
    "    # 获取推荐游戏的索引\n",
    "    recommended_games_idx = np.argsort(-game_similarities)[:n_recommendations]\n",
    "    \n",
    "    # 返回推荐的游戏，并从 merged_games_df 中提取更多信息\n",
    "    return merged_games_df[merged_games_df['app_id'].isin(user_game_matrix.columns[recommended_games_idx])][['app_id', 'title', 'price_final', 'rating']]\n",
    "\n",
    "# # 测试推荐系统\n",
    "# user_id = 123456  # 替换为实际的用户ID\n",
    "# recommendations = recommend_games_for_user(user_id, n_recommendations=10)\n",
    "# print(recommendations)\n"
   ]
  }
 ],
 "metadata": {
  "kernelspec": {
   "display_name": "base",
   "language": "python",
   "name": "python3"
  },
  "language_info": {
   "codemirror_mode": {
    "name": "ipython",
    "version": 3
   },
   "file_extension": ".py",
   "mimetype": "text/x-python",
   "name": "python",
   "nbconvert_exporter": "python",
   "pygments_lexer": "ipython3",
   "version": "3.9.19"
  }
 },
 "nbformat": 4,
 "nbformat_minor": 2
}
