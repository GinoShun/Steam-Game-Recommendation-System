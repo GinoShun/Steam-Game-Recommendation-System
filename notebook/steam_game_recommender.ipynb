{
 "cells": [
  {
   "cell_type": "markdown",
   "id": "4b64db3b",
   "metadata": {},
   "source": [
    "# User-Based Steam Game Recommenders"
   ]
  },
  {
   "cell_type": "markdown",
   "id": "d65d981f",
   "metadata": {},
   "source": [
    "This notebook contains three separate recommender systems based on the ResNet, LSTM, and NCF models, respectively."
   ]
  },
  {
   "cell_type": "code",
   "execution_count": 3,
   "id": "49675540",
   "metadata": {},
   "outputs": [],
   "source": [
    "import numpy as np\n",
    "import tensorflow as tf"
   ]
  },
  {
   "cell_type": "code",
   "execution_count": 2,
   "id": "ace9df1d",
   "metadata": {},
   "outputs": [],
   "source": [
    "user_id = 10  # Example user ID"
   ]
  },
  {
   "cell_type": "code",
   "execution_count": 5,
   "id": "38e3774b",
   "metadata": {},
   "outputs": [],
   "source": [
    "def focal_loss(alpha=0.14, gamma=2):\n",
    "    def focal_loss_fixed(y_true, y_pred):\n",
    "        y_pred = K.clip(y_pred, 1e-7, 1 - 1e-7)\n",
    "        pt_1 = tf.where(tf.equal(y_true, 1), y_pred, tf.ones_like(y_pred))\n",
    "        pt_0 = tf.where(tf.equal(y_true, 0), y_pred, tf.zeros_like(y_pred))\n",
    "        loss = -alpha * K.pow(1. - pt_1, gamma) * K.log(pt_1) \\\n",
    "               - (1 - alpha) * K.pow(pt_0, gamma) * K.log(1. - pt_0)\n",
    "        return K.mean(loss)\n",
    "    return focal_loss_fixed"
   ]
  },
  {
   "cell_type": "markdown",
   "id": "611264c7",
   "metadata": {},
   "source": [
    "#### ResNet Game Recommender"
   ]
  },
  {
   "cell_type": "code",
   "execution_count": 3,
   "id": "a07abbeb",
   "metadata": {},
   "outputs": [],
   "source": [
    "resnet_model = tf.keras.models.load_model('../model/balanced(best)/resnet_best(epoch34).h5', custom_objects={'focal_loss_fixed': focal_loss()})  # Load the model\n",
    "X_test_num = np.load('../data/test/numerical/X_test_scaled.npy')  # Feature data for all users"
   ]
  },
  {
   "cell_type": "code",
   "execution_count": 4,
   "id": "e2ff4601",
   "metadata": {},
   "outputs": [],
   "source": [
    "def recommend_games_resnet(user_id, X_test_num, n_recommendations=5):\n",
    "    \"\"\"\n",
    "    Recommend games based on the ResNet model using user_id.\n",
    "\n",
    "    Parameters:\n",
    "    user_id (int): The ID of the user to base recommendations on.\n",
    "    X_test_num (numpy.ndarray): Feature data for all users.\n",
    "    n_recommendations (int): The number of recommendations to return.\n",
    "\n",
    "    Returns:\n",
    "    list: A list of recommended game indices.\n",
    "    \"\"\"\n",
    "    user_features = X_test_num[user_id].reshape(1, -1)\n",
    "    \n",
    "    # Predict scores for all games using the ResNet model\n",
    "    all_game_scores = resnet_model.predict(X_test_num)\n",
    "    \n",
    "    # Sort the games based on predicted scores for the input user\n",
    "    sorted_game_indices = np.argsort(-all_game_scores.flatten())  # Sort in descending order\n",
    "\n",
    "    # Return the top n recommended games\n",
    "    return sorted_game_indices[:n_recommendations]"
   ]
  },
  {
   "cell_type": "code",
   "execution_count": 5,
   "id": "081c2924",
   "metadata": {},
   "outputs": [
    {
     "name": "stdout",
     "output_type": "stream",
     "text": [
      "105940/105940 [==============================] - 177s 2ms/step\n",
      "Recommended games for user ID 10 based on ResNet: [ 362772 2646827 3282000 1235101  876357]\n"
     ]
    }
   ],
   "source": [
    "\n",
    "recommended_games_resnet = recommend_games_resnet(user_id, X_test_num)\n",
    "print(f\"Recommended games for user ID {user_id} based on ResNet: {recommended_games_resnet}\")\n"
   ]
  },
  {
   "cell_type": "markdown",
   "id": "5821d3a4",
   "metadata": {},
   "source": [
    "#### LSTM Game Recommender"
   ]
  },
  {
   "cell_type": "code",
   "execution_count": 12,
   "id": "241283be",
   "metadata": {},
   "outputs": [],
   "source": [
    "lstm_model = tf.keras.models.load_model('../model/balanced(best)/lstm__strongActions(epoch8).h5', custom_objects={'focal_loss_fixed': focal_loss()})  # Load the model\n",
    "X_test_seq = np.load('../data/test/timeSeries_StrongAction/X_test.npy')  # Sequence feature data for all users"
   ]
  },
  {
   "cell_type": "code",
   "execution_count": 13,
   "id": "c5aa3aa5",
   "metadata": {},
   "outputs": [],
   "source": [
    "def recommend_games_lstm(user_id, X_test_seq, n_recommendations=5):\n",
    "    \"\"\"\n",
    "    Recommend games based on the LSTM model using user_id.\n",
    "\n",
    "    Parameters:\n",
    "    user_id (int): The ID of the user to base recommendations on.\n",
    "    X_test_seq (numpy.ndarray): Sequence feature data for all users.\n",
    "    n_recommendations (int): The number of recommendations to return.\n",
    "\n",
    "    Returns:\n",
    "    list: A list of recommended game indices.\n",
    "    \"\"\"\n",
    "    user_features = X_test_seq[user_id].reshape(1, -1)\n",
    "    \n",
    "    # Predict scores for all games using the LSTM model\n",
    "    all_game_scores = lstm_model.predict(X_test_seq)\n",
    "    \n",
    "    # Sort the games based on predicted scores for the input user\n",
    "    sorted_game_indices = np.argsort(-all_game_scores.flatten())  # Sort in descending order\n",
    "\n",
    "    # Return the top n recommended games\n",
    "    return sorted_game_indices[:n_recommendations]"
   ]
  },
  {
   "cell_type": "code",
   "execution_count": 14,
   "id": "d3c4f9a2",
   "metadata": {},
   "outputs": [
    {
     "name": "stdout",
     "output_type": "stream",
     "text": [
      "65091/65091 [==============================] - 575s 9ms/step\n",
      "Recommended games for user ID 10 based on LSTM: [ 999146  763983 2035244 1537871 1806069]\n"
     ]
    }
   ],
   "source": [
    "recommended_games_lstm = recommend_games_lstm(user_id, X_test_seq)\n",
    "print(f\"Recommended games for user ID {user_id} based on LSTM: {recommended_games_lstm}\")"
   ]
  },
  {
   "cell_type": "markdown",
   "id": "4ae5452a",
   "metadata": {},
   "source": [
    "#### NCF Game Recommender"
   ]
  },
  {
   "cell_type": "code",
   "execution_count": null,
   "id": "0a2dea13",
   "metadata": {},
   "outputs": [],
   "source": [
    "# Load the NCF model\n",
    "ncf_model = tf.keras.models.load_model('../model/balanced(best)/best_ncf_model(epoch77).h5', custom_objects={'focal_loss_fixed': focal_loss()})\n",
    "X_test_user_ncf = np.load('../data/test/ncf/realworld_10%/X_test_user_encoded.npy')  # User features for NCF\n",
    "X_test_item_ncf = np.load('../data/test/ncf/realworld_10%/X_test_item_encoded.npy')  # Item features for NCF\n",
    "X_test_features_ncf = np.load('../data/test/ncf/realworld_10%/X_test_features.npy')  # Features for NCF"
   ]
  },
  {
   "cell_type": "code",
   "execution_count": 23,
   "id": "58841839",
   "metadata": {},
   "outputs": [],
   "source": [
    "def recommend_games_ncf(user_id, X_test_user_ncf, X_test_item_ncf, X_test_features_ncf, n_recommendations=5):\n",
    "    \"\"\"\n",
    "    Recommend games based on the NCF model using user_id.\n",
    "\n",
    "    Parameters:\n",
    "    user_id (int): The ID of the user to base recommendations on.\n",
    "    X_test_user_ncf (numpy.ndarray): User feature data for all users.\n",
    "    X_test_item_ncf (numpy.ndarray): Item feature data for all games.\n",
    "    X_test_features_ncf (numpy.ndarray): Additional feature data for all games.\n",
    "    n_recommendations (int): The number of recommendations to return.\n",
    "\n",
    "    Returns:\n",
    "    list: A list of recommended game indices.\n",
    "    \"\"\"\n",
    "    user_features = X_test_user_ncf[user_id].reshape(1, -1)\n",
    "    n_games = X_test_item_ncf.shape[0]\n",
    "    \n",
    "    # Predict scores for all games using the NCF model\n",
    "    all_game_scores = []\n",
    "    for game_id in range(n_games):\n",
    "        game_features = X_test_item_ncf[game_id].reshape(1, -1)\n",
    "        additional_features = X_test_features_ncf[game_id].reshape(1, -1)\n",
    "        score = ncf_model.predict([user_features, game_features, additional_features])\n",
    "        all_game_scores.append(score[0][0])\n",
    "    \n",
    "    all_game_scores = np.array(all_game_scores)\n",
    "    \n",
    "    # Sort the games based on predicted scores for the input user\n",
    "    sorted_game_indices = np.argsort(-all_game_scores)  # Sort in descending order\n",
    "\n",
    "    # Return the top n recommended games\n",
    "    return sorted_game_indices[:n_recommendations]\n"
   ]
  },
  {
   "cell_type": "code",
   "execution_count": null,
   "id": "f4957654",
   "metadata": {},
   "outputs": [],
   "source": [
    "recommended_games_ncf = recommend_games_ncf(user_id, X_test_user_ncf, X_test_item_ncf, X_test_features_ncf)\n",
    "print(f\"Recommended games for user ID {user_id} based on NCF: {recommended_games_ncf}\")"
   ]
  },
  {
   "cell_type": "markdown",
   "id": "30311516",
   "metadata": {},
   "source": [
    "## Next Steps\n",
    "- Ensure that the model files and dataset are available in the working directory.\n",
    "- Evaluate the recommendations to see if they meet expectations or if further fine-tuning is needed."
   ]
  }
 ],
 "metadata": {
  "kernelspec": {
   "display_name": "Python 3",
   "language": "python",
   "name": "python3"
  },
  "language_info": {
   "codemirror_mode": {
    "name": "ipython",
    "version": 3
   },
   "file_extension": ".py",
   "mimetype": "text/x-python",
   "name": "python",
   "nbconvert_exporter": "python",
   "pygments_lexer": "ipython3",
   "version": "3.9.16"
  }
 },
 "nbformat": 4,
 "nbformat_minor": 5
}
