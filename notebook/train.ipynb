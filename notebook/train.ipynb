{
 "cells": [
  {
   "cell_type": "code",
   "execution_count": 7,
   "metadata": {},
   "outputs": [],
   "source": [
    "import pandas as pd\n",
    "import numpy as np\n",
    "import torch\n",
    "import torch.nn as nn\n",
    "from torch.utils.data import Dataset, DataLoader\n",
    "from sklearn.preprocessing import LabelEncoder\n",
    "from sklearn.model_selection import train_test_split\n",
    "import json, os, sys"
   ]
  },
  {
   "cell_type": "markdown",
   "metadata": {},
   "source": [
    "### 1. Data preprocessing"
   ]
  },
  {
   "cell_type": "code",
   "execution_count": 9,
   "metadata": {},
   "outputs": [],
   "source": [
    "# 加载数据集\n",
    "users = pd.read_csv('../data/users.csv')\n",
    "recommendations = pd.read_csv('../data/recommendations.csv')\n",
    "games = pd.read_csv('../data/games.csv')\n",
    "\n",
    "games_metadata_list = []\n",
    "with open('../data/games_metadata.json', 'r') as f:\n",
    "    for line in f:\n",
    "        games_metadata_list.append(json.loads(line))\n",
    "games_metadata = pd.json_normalize(games_metadata_list)"
   ]
  },
  {
   "cell_type": "code",
   "execution_count": 10,
   "metadata": {},
   "outputs": [],
   "source": [
    "# 合并游戏数据\n",
    "games_full = pd.merge(games, games_metadata, on='app_id', how='left')\n",
    "\n",
    "# 合并用户评论和游戏数据\n",
    "data = pd.merge(recommendations, games_full, on='app_id', how='left')\n",
    "\n",
    "# 填充缺失值\n",
    "data.fillna({'hours': 0, 'helpful': 0, 'funny': 0, 'tags': ''}, inplace=True)"
   ]
  },
  {
   "cell_type": "code",
   "execution_count": 11,
   "metadata": {},
   "outputs": [],
   "source": [
    "# 编码 user_id 和 app_id\n",
    "user_encoder = LabelEncoder()\n",
    "game_encoder = LabelEncoder()\n",
    "\n",
    "data['user_id_enc'] = user_encoder.fit_transform(data['user_id'])\n",
    "data['app_id_enc'] = game_encoder.fit_transform(data['app_id'])\n",
    "\n",
    "num_users = data['user_id_enc'].nunique()\n",
    "num_games = data['app_id_enc'].nunique()"
   ]
  },
  {
   "cell_type": "code",
   "execution_count": 12,
   "metadata": {},
   "outputs": [],
   "source": [
    "# 准备标签编码器\n",
    "all_tags = list(set([tag for sublist in games_full['tags'].dropna() for tag in sublist]))\n",
    "tag_encoder = LabelEncoder()\n",
    "tag_encoder.fit(all_tags)\n",
    "\n",
    "def encode_tags(tags_list):\n",
    "    if not tags_list:\n",
    "        return []\n",
    "    return tag_encoder.transform(tags_list)\n",
    "\n",
    "games_full['tags_enc'] = games_full['tags'].apply(encode_tags)"
   ]
  },
  {
   "cell_type": "markdown",
   "metadata": {},
   "source": [
    "### 2. Data processing"
   ]
  },
  {
   "cell_type": "code",
   "execution_count": 13,
   "metadata": {},
   "outputs": [],
   "source": [
    "# 按用户分组\n",
    "user_group = data.groupby('user_id_enc')\n",
    "\n",
    "# 创建训练数据列表\n",
    "train_data = []\n",
    "\n",
    "for user_id, group in user_group:\n",
    "    # 根据需要按日期排序\n",
    "    group = group.sort_values('date')\n",
    "    # 获取序列\n",
    "    game_ids = group['app_id_enc'].values\n",
    "    hours = group['hours'].values\n",
    "    is_recommended = group['is_recommended'].astype(int).values\n",
    "\n",
    "    for i in range(1, len(game_ids)):\n",
    "        input_games = game_ids[:i]\n",
    "        input_hours = hours[:i]\n",
    "        target_game = game_ids[i]\n",
    "        label = is_recommended[i]\n",
    "        train_data.append({\n",
    "            'user_id': user_id,\n",
    "            'input_games': input_games,\n",
    "            'input_hours': input_hours,\n",
    "            'target_game': target_game,\n",
    "            'label': label\n",
    "        })"
   ]
  },
  {
   "cell_type": "code",
   "execution_count": null,
   "metadata": {},
   "outputs": [],
   "source": [
    "class GameRecommendationDataset(Dataset):\n",
    "    def __init__(self, data):\n",
    "        self.data = data\n",
    "        \n",
    "    def __len__(self):\n",
    "        return len(self.data)\n",
    "    \n",
    "    def __getitem__(self, idx):\n",
    "        item = self.data[idx]\n",
    "        return {\n",
    "            'user_id': torch.tensor(item['user_id'], dtype=torch.long),\n",
    "            'input_games': torch.tensor(item['input_games'], dtype=torch.long),\n",
    "            'input_hours': torch.tensor(item['input_hours'], dtype=torch.float),\n",
    "            'target_game': torch.tensor(item['target_game'], dtype=torch.long),\n",
    "            'label': torch.tensor(item['label'], dtype=torch.float)\n",
    "        }\n",
    "\n",
    "# 划分训练集和测试集\n",
    "train_set, test_set = train_test_split(train_data, test_size=0.2, random_state=42)\n",
    "\n",
    "train_dataset = GameRecommendationDataset(train_set)\n",
    "test_dataset = GameRecommendationDataset(test_set)\n",
    "\n",
    "# 创建数据加载器\n",
    "train_loader = DataLoader(train_dataset, batch_size=32, shuffle=True, drop_last=True)\n",
    "test_loader = DataLoader(test_dataset, batch_size=32, shuffle=False, drop_last=False)"
   ]
  },
  {
   "cell_type": "markdown",
   "metadata": {},
   "source": [
    "### 3. Model construction"
   ]
  },
  {
   "cell_type": "code",
   "execution_count": null,
   "metadata": {},
   "outputs": [],
   "source": [
    "class RecommendationModel(nn.Module):\n",
    "    def __init__(self, num_users, num_games, embedding_dim, hidden_dim):\n",
    "        super(RecommendationModel, self).__init__()\n",
    "        self.user_embedding = nn.Embedding(num_users, embedding_dim)\n",
    "        self.game_embedding = nn.Embedding(num_games, embedding_dim)\n",
    "        \n",
    "        self.rnn = nn.GRU(embedding_dim * 2, hidden_dim, batch_first=True)\n",
    "        \n",
    "        self.fc = nn.Linear(hidden_dim, 1)\n",
    "        self.sigmoid = nn.Sigmoid()\n",
    "        \n",
    "    def forward(self, user_id, input_games, input_hours):\n",
    "        user_emb = self.user_embedding(user_id)  # [batch_size, embedding_dim]\n",
    "        games_emb = self.game_embedding(input_games)  # [batch_size, seq_len, embedding_dim]\n",
    "        \n",
    "        # 扩展用户嵌入维度\n",
    "        user_emb_expanded = user_emb.unsqueeze(1).expand_as(games_emb)\n",
    "        \n",
    "        # 拼接嵌入向量\n",
    "        rnn_input = torch.cat([user_emb_expanded, games_emb], dim=-1)  # [batch_size, seq_len, embedding_dim * 2]\n",
    "        \n",
    "        output, _ = self.rnn(rnn_input)  # [batch_size, seq_len, hidden_dim]\n",
    "        last_output = output[:, -1, :]  # 获取最后一个时间步的输出\n",
    "        \n",
    "        logits = self.fc(last_output)\n",
    "        prob = self.sigmoid(logits)\n",
    "        \n",
    "        return prob.squeeze()"
   ]
  },
  {
   "cell_type": "code",
   "execution_count": null,
   "metadata": {},
   "outputs": [],
   "source": [
    "# 定义模型参数\n",
    "embedding_dim = 64\n",
    "hidden_dim = 128\n",
    "\n",
    "model = RecommendationModel(num_users=num_users, num_games=num_games, embedding_dim=embedding_dim, hidden_dim=hidden_dim)"
   ]
  },
  {
   "cell_type": "markdown",
   "metadata": {},
   "source": [
    "### 4. Model training"
   ]
  },
  {
   "cell_type": "code",
   "execution_count": null,
   "metadata": {},
   "outputs": [],
   "source": [
    "criterion = nn.BCELoss()\n",
    "optimizer = torch.optim.Adam(model.parameters(), lr=0.001)"
   ]
  },
  {
   "cell_type": "code",
   "execution_count": null,
   "metadata": {},
   "outputs": [],
   "source": [
    "num_epochs = 5\n",
    "\n",
    "for epoch in range(num_epochs):\n",
    "    model.train()\n",
    "    total_loss = 0\n",
    "    for batch in train_loader:\n",
    "        user_id = batch['user_id']\n",
    "        input_games = batch['input_games']\n",
    "        input_hours = batch['input_hours']\n",
    "        label = batch['label']\n",
    "        \n",
    "        optimizer.zero_grad()\n",
    "        output = model(user_id, input_games, input_hours)\n",
    "        loss = criterion(output, label)\n",
    "        loss.backward()\n",
    "        optimizer.step()\n",
    "        total_loss += loss.item()\n",
    "    print(f\"Epoch [{epoch+1}/{num_epochs}], Loss: {total_loss/len(train_loader):.4f}\")"
   ]
  },
  {
   "cell_type": "markdown",
   "metadata": {},
   "source": [
    "### 5. Model Evaluation"
   ]
  },
  {
   "cell_type": "code",
   "execution_count": null,
   "metadata": {},
   "outputs": [],
   "source": [
    "model.eval()\n",
    "with torch.no_grad():\n",
    "    correct = 0\n",
    "    total = 0\n",
    "    for batch in test_loader:\n",
    "        user_id = batch['user_id']\n",
    "        input_games = batch['input_games']\n",
    "        input_hours = batch['input_hours']\n",
    "        label = batch['label']\n",
    "        \n",
    "        output = model(user_id, input_games, input_hours)\n",
    "        predicted = (output > 0.5).float()\n",
    "        total += label.size(0)\n",
    "        correct += (predicted == label).sum().item()\n",
    "    print(f\"Test Accuracy: {100 * correct / total:.2f}%\")"
   ]
  },
  {
   "cell_type": "markdown",
   "metadata": {},
   "source": [
    "### 6. Recommendation function"
   ]
  },
  {
   "cell_type": "code",
   "execution_count": null,
   "metadata": {},
   "outputs": [],
   "source": [
    "def recommend_games_for_user(model, user_id_raw, top_k=10):\n",
    "    user_id = user_encoder.transform([user_id_raw])[0]\n",
    "    played_games = data[data['user_id_enc'] == user_id]['app_id_enc'].unique()\n",
    "    \n",
    "    # 获取用户历史记录\n",
    "    user_history = data[data['user_id_enc'] == user_id]\n",
    "    user_history = user_history.sort_values('date')\n",
    "    input_games = torch.tensor(user_history['app_id_enc'].values, dtype=torch.long).unsqueeze(0)\n",
    "    input_hours = torch.tensor(user_history['hours'].values, dtype=torch.float).unsqueeze(0)\n",
    "    \n",
    "    # 预测未玩过的游戏\n",
    "    all_games = set(range(num_games))\n",
    "    unplayed_games = all_games - set(played_games)\n",
    "    \n",
    "    recommendations = []\n",
    "    \n",
    "    model.eval()\n",
    "    with torch.no_grad():\n",
    "        for game_id in unplayed_games:\n",
    "            # 构造输入\n",
    "            target_game = torch.tensor([game_id], dtype=torch.long)\n",
    "            # 模型输出\n",
    "            output = model(torch.tensor([user_id]), input_games, input_hours)\n",
    "            prob = output.item()\n",
    "            recommendations.append((game_id, prob))\n",
    "    \n",
    "    # 按预测概率排序\n",
    "    recommendations.sort(key=lambda x: x[1], reverse=True)\n",
    "    \n",
    "    # 获取前 K 个游戏\n",
    "    top_games = recommendations[:top_k]\n",
    "    top_game_ids = [game_encoder.inverse_transform([game_id])[0] for game_id, _ in top_games]\n",
    "    \n",
    "    # 显示推荐的游戏信息\n",
    "    recommended_games_info = games_full[games_full['app_id'].isin(top_game_ids)]\n",
    "    print(f\"Recommended Games for User {user_id_raw}:\")\n",
    "    display(recommended_games_info[['app_id', 'title', 'positive_ratio', 'price_final']])"
   ]
  },
  {
   "cell_type": "code",
   "execution_count": null,
   "metadata": {},
   "outputs": [],
   "source": [
    "# 替换为数据集中实际存在的 user_id\n",
    "# target_user_id = users['user_id'].iloc[0]\n",
    "# recommend_games_for_user(model, target_user_id)"
   ]
  }
 ],
 "metadata": {
  "kernelspec": {
   "display_name": "base",
   "language": "python",
   "name": "python3"
  },
  "language_info": {
   "codemirror_mode": {
    "name": "ipython",
    "version": 3
   },
   "file_extension": ".py",
   "mimetype": "text/x-python",
   "name": "python",
   "nbconvert_exporter": "python",
   "pygments_lexer": "ipython3",
   "version": "3.9.19"
  }
 },
 "nbformat": 4,
 "nbformat_minor": 2
}
