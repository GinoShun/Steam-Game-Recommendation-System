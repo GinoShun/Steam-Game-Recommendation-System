{
 "cells": [
  {
   "cell_type": "markdown",
   "metadata": {},
   "source": [
    "### Understand Data Structure"
   ]
  },
  {
   "cell_type": "code",
   "execution_count": 4,
   "metadata": {},
   "outputs": [
    {
     "name": "stdout",
     "output_type": "stream",
     "text": [
      "['app_id', 'title', 'date_release', 'win', 'mac', 'linux', 'rating', 'positive_ratio', 'user_reviews', 'price_final', 'price_original', 'discount', 'steam_deck']\n",
      "['app_id', 'helpful', 'funny', 'date', 'is_recommended', 'hours', 'user_id', 'review_id']\n",
      "['user_id', 'products', 'reviews']\n"
     ]
    }
   ],
   "source": [
    "# for .csv inside ../data/, print each first line\n",
    "import os\n",
    "import csv\n",
    "\n",
    "for filename in os.listdir('../data/'):\n",
    "    if filename.endswith('.csv'):\n",
    "        with open('../data/' + filename) as f:\n",
    "            reader = csv.reader(f)\n",
    "            print(next(reader))"
   ]
  },
  {
   "cell_type": "code",
   "execution_count": 5,
   "metadata": {},
   "outputs": [
    {
     "name": "stdout",
     "output_type": "stream",
     "text": [
      "File: games_metadata.json\n",
      "Header (keys): ['app_id', 'description', 'tags']\n"
     ]
    }
   ],
   "source": [
    "# for .json inside ../data/, print sturcture\n",
    "import json, os\n",
    "\n",
    "for filename in os.listdir('../data/'):\n",
    "    if filename.endswith('.json'):\n",
    "        with open('../data/' + filename, encoding='utf-8') as f:\n",
    "            for line in f:\n",
    "                try:\n",
    "                    data = json.loads(line.strip())\n",
    "                    if isinstance(data, dict):\n",
    "                        print(f\"File: {filename}\")\n",
    "                        print(\"Header (keys):\", list(data.keys()))\n",
    "                        break\n",
    "                except json.JSONDecodeError:\n",
    "                    print(f\"Error decoding JSON in line: {line}\")\n"
   ]
  }
 ],
 "metadata": {
  "kernelspec": {
   "display_name": "base",
   "language": "python",
   "name": "python3"
  },
  "language_info": {
   "codemirror_mode": {
    "name": "ipython",
    "version": 3
   },
   "file_extension": ".py",
   "mimetype": "text/x-python",
   "name": "python",
   "nbconvert_exporter": "python",
   "pygments_lexer": "ipython3",
   "version": "3.12.2"
  }
 },
 "nbformat": 4,
 "nbformat_minor": 2
}
