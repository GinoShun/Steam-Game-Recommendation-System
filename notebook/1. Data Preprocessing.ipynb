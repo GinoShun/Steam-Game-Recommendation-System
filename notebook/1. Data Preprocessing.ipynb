{
 "cells": [
  {
   "cell_type": "markdown",
   "metadata": {},
   "source": [
    "### Understand Data Structure"
   ]
  },
  {
   "cell_type": "code",
   "execution_count": 4,
   "metadata": {},
   "outputs": [
    {
     "name": "stdout",
     "output_type": "stream",
     "text": [
      "['app_id', 'title', 'date_release', 'win', 'mac', 'linux', 'rating', 'positive_ratio', 'user_reviews', 'price_final', 'price_original', 'discount', 'steam_deck']\n",
      "['app_id', 'helpful', 'funny', 'date', 'is_recommended', 'hours', 'user_id', 'review_id']\n",
      "['user_id', 'products', 'reviews']\n"
     ]
    }
   ],
   "source": [
    "# for .csv inside ../data/, print each first line\n",
    "import os\n",
    "import csv\n",
    "\n",
    "for filename in os.listdir('../data/'):\n",
    "    if filename.endswith('.csv'):\n",
    "        with open('../data/' + filename) as f:\n",
    "            reader = csv.reader(f)\n",
    "            print(next(reader))"
   ]
  },
  {
   "cell_type": "code",
   "execution_count": 5,
   "metadata": {},
   "outputs": [
    {
     "name": "stdout",
     "output_type": "stream",
     "text": [
      "File: games_metadata.json\n",
      "Header (keys): ['app_id', 'description', 'tags']\n"
     ]
    }
   ],
   "source": [
    "# for .json inside ../data/, print sturcture\n",
    "import json, os\n",
    "\n",
    "for filename in os.listdir('../data/'):\n",
    "    if filename.endswith('.json'):\n",
    "        with open('../data/' + filename, encoding='utf-8') as f:\n",
    "            for line in f:\n",
    "                try:\n",
    "                    data = json.loads(line.strip())\n",
    "                    if isinstance(data, dict):\n",
    "                        print(f\"File: {filename}\")\n",
    "                        print(\"Header (keys):\", list(data.keys()))\n",
    "                        break\n",
    "                except json.JSONDecodeError:\n",
    "                    print(f\"Error decoding JSON in line: {line}\")\n"
   ]
  },
  {
   "cell_type": "markdown",
   "metadata": {},
   "source": [
    "### Merge Data"
   ]
  },
  {
   "cell_type": "code",
   "execution_count": 3,
   "metadata": {},
   "outputs": [],
   "source": [
    "import pandas as pd\n",
    "import json"
   ]
  },
  {
   "cell_type": "code",
   "execution_count": 4,
   "metadata": {},
   "outputs": [],
   "source": [
    "# load data\n",
    "games_df = pd.read_csv('../data/games.csv')\n",
    "users_df = pd.read_csv('../data/users.csv')\n",
    "recommendations_df = pd.read_csv('../data/recommendations.csv')\n",
    "\n",
    "games_metadata = []\n",
    "with open('../data/games_metadata.json', 'r') as f:\n",
    "    for line in f:\n",
    "        games_metadata.append(json.loads(line))\n",
    "games_metadata_df = pd.json_normalize(games_metadata)"
   ]
  },
  {
   "cell_type": "code",
   "execution_count": 5,
   "metadata": {},
   "outputs": [
    {
     "name": "stdout",
     "output_type": "stream",
     "text": [
      "   app_id                              title date_release   win    mac  linux  \\\n",
      "0   13500  Prince of Persia: Warrior Within™   2008-11-21  True  False  False   \n",
      "1   22364            BRINK: Agents of Change   2011-08-03  True  False  False   \n",
      "2  113020       Monaco: What's Yours Is Mine   2013-04-24  True   True   True   \n",
      "3  226560                 Escape Dead Island   2014-11-18  True  False  False   \n",
      "4  249050            Dungeon of the ENDLESS™   2014-10-27  True   True  False   \n",
      "\n",
      "          rating  positive_ratio  user_reviews  price_final  price_original  \\\n",
      "0  Very Positive              84          2199         9.99            9.99   \n",
      "1       Positive              85            21         2.99            2.99   \n",
      "2  Very Positive              92          3722        14.99           14.99   \n",
      "3          Mixed              61           873        14.99           14.99   \n",
      "4  Very Positive              88          8784        11.99           11.99   \n",
      "\n",
      "   discount  steam_deck                                        description  \\\n",
      "0       0.0        True  Enter the dark underworld of Prince of Persia ...   \n",
      "1       0.0        True                                                      \n",
      "2       0.0        True  Monaco: What's Yours Is Mine is a single playe...   \n",
      "3       0.0        True  Escape Dead Island is a Survival-Mystery adven...   \n",
      "4       0.0        True  Dungeon of the Endless is a Rogue-Like Dungeon...   \n",
      "\n",
      "                                                tags  \n",
      "0  [Action, Adventure, Parkour, Third Person, Gre...  \n",
      "1                                           [Action]  \n",
      "2  [Co-op, Stealth, Indie, Heist, Local Co-Op, St...  \n",
      "3  [Zombies, Adventure, Survival, Action, Third P...  \n",
      "4  [Roguelike, Strategy, Tower Defense, Pixel Gra...  \n"
     ]
    }
   ],
   "source": [
    "# merge game info\n",
    "merged_games_df = pd.merge(games_df, games_metadata_df, on='app_id', how='inner')\n",
    "print(merged_games_df.head())"
   ]
  },
  {
   "cell_type": "code",
   "execution_count": 7,
   "metadata": {},
   "outputs": [
    {
     "name": "stdout",
     "output_type": "stream",
     "text": [
      "    app_id  helpful  funny        date  is_recommended  hours  user_id  \\\n",
      "0   975370        0      0  2022-12-12            True   36.3    51580   \n",
      "1   304390        4      0  2017-02-17           False   11.5     2586   \n",
      "2  1085660        2      0  2019-11-17            True  336.5   253880   \n",
      "3   703080        0      0  2022-09-23            True   27.4   259432   \n",
      "4   526870        0      0  2021-01-10            True    7.9    23869   \n",
      "\n",
      "   products  reviews  \n",
      "0        28        5  \n",
      "1       269        1  \n",
      "2       237        2  \n",
      "3         5        2  \n",
      "4        13        2  \n"
     ]
    }
   ],
   "source": [
    "# merge review with user info\n",
    "merged_review_df = pd.merge(recommendations_df, users_df, on='user_id', how='inner')\n",
    "# drop review_id column\n",
    "merged_review_df.drop(columns=['review_id'], inplace=True)\n",
    "# rename columns\n",
    "merged_review_df.rename(columns={'reviews': 'user'}, inplace=True)\n",
    "print(merged_review_df.head())"
   ]
  }
 ],
 "metadata": {
  "kernelspec": {
   "display_name": "base",
   "language": "python",
   "name": "python3"
  },
  "language_info": {
   "codemirror_mode": {
    "name": "ipython",
    "version": 3
   },
   "file_extension": ".py",
   "mimetype": "text/x-python",
   "name": "python",
   "nbconvert_exporter": "python",
   "pygments_lexer": "ipython3",
   "version": "3.12.2"
  }
 },
 "nbformat": 4,
 "nbformat_minor": 2
}
