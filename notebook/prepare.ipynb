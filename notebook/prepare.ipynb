{
 "cells": [
  {
   "cell_type": "markdown",
   "metadata": {},
   "source": [
    "### Understand Data Structure"
   ]
  },
  {
   "cell_type": "code",
   "execution_count": 4,
   "metadata": {},
   "outputs": [
    {
     "name": "stdout",
     "output_type": "stream",
     "text": [
      "['app_id', 'title', 'date_release', 'win', 'mac', 'linux', 'rating', 'positive_ratio', 'user_reviews', 'price_final', 'price_original', 'discount', 'steam_deck']\n",
      "['app_id', 'helpful', 'funny', 'date', 'is_recommended', 'hours', 'user_id', 'review_id']\n",
      "['user_id', 'products', 'reviews']\n"
     ]
    }
   ],
   "source": [
    "# for .csv inside ../data/, print each first line\n",
    "import os\n",
    "import csv\n",
    "\n",
    "for filename in os.listdir('../data/'):\n",
    "    if filename.endswith('.csv'):\n",
    "        with open('../data/' + filename) as f:\n",
    "            reader = csv.reader(f)\n",
    "            print(next(reader))"
   ]
  },
  {
   "cell_type": "code",
   "execution_count": 5,
   "metadata": {},
   "outputs": [
    {
     "name": "stdout",
     "output_type": "stream",
     "text": [
      "File: games_metadata.json\n",
      "Header (keys): ['app_id', 'description', 'tags']\n"
     ]
    }
   ],
   "source": [
    "# for .json inside ../data/, print sturcture\n",
    "import json, os\n",
    "\n",
    "for filename in os.listdir('../data/'):\n",
    "    if filename.endswith('.json'):\n",
    "        with open('../data/' + filename, encoding='utf-8') as f:\n",
    "            for line in f:\n",
    "                try:\n",
    "                    data = json.loads(line.strip())\n",
    "                    if isinstance(data, dict):\n",
    "                        print(f\"File: {filename}\")\n",
    "                        print(\"Header (keys):\", list(data.keys()))\n",
    "                        break\n",
    "                except json.JSONDecodeError:\n",
    "                    print(f\"Error decoding JSON in line: {line}\")\n"
   ]
  },
  {
   "cell_type": "markdown",
   "metadata": {},
   "source": [
    "### Merge Data"
   ]
  },
  {
   "cell_type": "code",
   "execution_count": 3,
   "metadata": {},
   "outputs": [],
   "source": [
    "import pandas as pd\n",
    "import json"
   ]
  },
  {
   "cell_type": "code",
   "execution_count": 4,
   "metadata": {},
   "outputs": [],
   "source": [
    "# load data\n",
    "games_df = pd.read_csv('../data/games.csv')\n",
    "users_df = pd.read_csv('../data/users.csv')\n",
    "recommendations_df = pd.read_csv('../data/recommendations.csv')\n",
    "\n",
    "games_metadata = []\n",
    "with open('../data/games_metadata.json', 'r') as f:\n",
    "    for line in f:\n",
    "        games_metadata.append(json.loads(line))\n",
    "games_metadata_df = pd.json_normalize(games_metadata)"
   ]
  },
  {
   "cell_type": "code",
   "execution_count": 5,
   "metadata": {},
   "outputs": [
    {
     "name": "stdout",
     "output_type": "stream",
     "text": [
      "   app_id                              title date_release   win    mac  linux  \\\n",
      "0   13500  Prince of Persia: Warrior Within™   2008-11-21  True  False  False   \n",
      "1   22364            BRINK: Agents of Change   2011-08-03  True  False  False   \n",
      "2  113020       Monaco: What's Yours Is Mine   2013-04-24  True   True   True   \n",
      "3  226560                 Escape Dead Island   2014-11-18  True  False  False   \n",
      "4  249050            Dungeon of the ENDLESS™   2014-10-27  True   True  False   \n",
      "\n",
      "          rating  positive_ratio  user_reviews  price_final  price_original  \\\n",
      "0  Very Positive              84          2199         9.99            9.99   \n",
      "1       Positive              85            21         2.99            2.99   \n",
      "2  Very Positive              92          3722        14.99           14.99   \n",
      "3          Mixed              61           873        14.99           14.99   \n",
      "4  Very Positive              88          8784        11.99           11.99   \n",
      "\n",
      "   discount  steam_deck                                        description  \\\n",
      "0       0.0        True  Enter the dark underworld of Prince of Persia ...   \n",
      "1       0.0        True                                                      \n",
      "2       0.0        True  Monaco: What's Yours Is Mine is a single playe...   \n",
      "3       0.0        True  Escape Dead Island is a Survival-Mystery adven...   \n",
      "4       0.0        True  Dungeon of the Endless is a Rogue-Like Dungeon...   \n",
      "\n",
      "                                                tags  \n",
      "0  [Action, Adventure, Parkour, Third Person, Gre...  \n",
      "1                                           [Action]  \n",
      "2  [Co-op, Stealth, Indie, Heist, Local Co-Op, St...  \n",
      "3  [Zombies, Adventure, Survival, Action, Third P...  \n",
      "4  [Roguelike, Strategy, Tower Defense, Pixel Gra...  \n"
     ]
    }
   ],
   "source": [
    "# merge game info\n",
    "merged_games_df = pd.merge(games_df, games_metadata_df, on='app_id', how='inner')\n",
    "print(merged_games_df.head())"
   ]
  },
  {
   "cell_type": "code",
   "execution_count": 7,
   "metadata": {},
   "outputs": [
    {
     "name": "stdout",
     "output_type": "stream",
     "text": [
      "    app_id  helpful  funny        date  is_recommended  hours  user_id  \\\n",
      "0   975370        0      0  2022-12-12            True   36.3    51580   \n",
      "1   304390        4      0  2017-02-17           False   11.5     2586   \n",
      "2  1085660        2      0  2019-11-17            True  336.5   253880   \n",
      "3   703080        0      0  2022-09-23            True   27.4   259432   \n",
      "4   526870        0      0  2021-01-10            True    7.9    23869   \n",
      "\n",
      "   products  reviews  \n",
      "0        28        5  \n",
      "1       269        1  \n",
      "2       237        2  \n",
      "3         5        2  \n",
      "4        13        2  \n"
     ]
    }
   ],
   "source": [
    "# merge review with user info\n",
    "merged_review_df = pd.merge(recommendations_df, users_df, on='user_id', how='inner')\n",
    "# drop review_id column\n",
    "merged_review_df.drop(columns=['review_id'], inplace=True)\n",
    "# rename columns\n",
    "merged_review_df.rename(columns={'reviews': 'user'}, inplace=True)\n",
    "print(merged_review_df.head())"
   ]
  },
  {
   "cell_type": "markdown",
   "metadata": {},
   "source": [
    "### Check distribution"
   ]
  },
  {
   "cell_type": "code",
   "execution_count": 1,
   "metadata": {},
   "outputs": [],
   "source": [
    "import pandas as pd"
   ]
  },
  {
   "cell_type": "code",
   "execution_count": 2,
   "metadata": {},
   "outputs": [
    {
     "name": "stderr",
     "output_type": "stream",
     "text": [
      "C:\\Users\\Jinuo\\AppData\\Local\\Temp\\ipykernel_1836\\3934603791.py:2: DtypeWarning: Columns (20) have mixed types. Specify dtype option on import or set low_memory=False.\n",
      "  games_df = pd.read_csv('../data/data_temp.csv')\n"
     ]
    },
    {
     "name": "stdout",
     "output_type": "stream",
     "text": [
      "(41154794, 30)\n",
      "(41154794, 30)\n",
      "app_id                       0\n",
      "helpful                      0\n",
      "funny                        0\n",
      "date                         0\n",
      "is_recommended               0\n",
      "hours                        0\n",
      "user_id                      0\n",
      "review_id                    0\n",
      "title                        0\n",
      "date_release                 0\n",
      "win                          0\n",
      "mac                          0\n",
      "linux                        0\n",
      "rating                       0\n",
      "positive_ratio               0\n",
      "user_reviews                 0\n",
      "price_final                  0\n",
      "price_original               0\n",
      "discount                     0\n",
      "steam_deck                   0\n",
      "description           20807203\n",
      "tags                         0\n",
      "products                     0\n",
      "reviews                      0\n",
      "user_id_enc                  0\n",
      "app_id_enc                   0\n",
      "tags_enc                     0\n",
      "days_since_review            0\n",
      "review_month                 0\n",
      "review_day_of_week           0\n",
      "dtype: int64\n",
      "(20347591, 30)\n"
     ]
    }
   ],
   "source": [
    "# read data\n",
    "games_df = pd.read_csv('../data/data_temp.csv')\n",
    "print(games_df.shape)\n",
    "# drop duplicates\n",
    "games_df.drop_duplicates(inplace=True)\n",
    "print(games_df.shape)\n",
    "# drop rows with missing values\n",
    "# make a statistic of missing values\n",
    "print(games_df.isnull().sum())\n",
    "games_df.dropna(inplace=True)\n",
    "print(games_df.shape)"
   ]
  },
  {
   "cell_type": "code",
   "execution_count": 3,
   "metadata": {},
   "outputs": [
    {
     "name": "stdout",
     "output_type": "stream",
     "text": [
      "count    7.494898e+06\n",
      "mean     2.714859e+00\n",
      "std      9.042705e+00\n",
      "min      1.000000e+00\n",
      "25%      1.000000e+00\n",
      "50%      1.000000e+00\n",
      "75%      2.000000e+00\n",
      "max      5.942000e+03\n",
      "Name: count, dtype: float64\n",
      "count     36993.000000\n",
      "mean        550.038953\n",
      "std        2988.591719\n",
      "min           1.000000\n",
      "25%          13.000000\n",
      "50%          38.000000\n",
      "75%         163.000000\n",
      "max      155229.000000\n",
      "Name: count, dtype: float64\n"
     ]
    }
   ],
   "source": [
    "print(games_df['user_id'].value_counts().describe())\n",
    "print(games_df['app_id'].value_counts().describe())"
   ]
  },
  {
   "cell_type": "code",
   "execution_count": 4,
   "metadata": {},
   "outputs": [
    {
     "name": "stdout",
     "output_type": "stream",
     "text": [
      "Products Stats:\n",
      "count    1.430606e+07\n",
      "mean     1.163734e+02\n",
      "std      2.438515e+02\n",
      "min      0.000000e+00\n",
      "25%      2.300000e+01\n",
      "50%      5.500000e+01\n",
      "75%      1.270000e+02\n",
      "max      3.221400e+04\n",
      "Name: products, dtype: float64\n",
      "\n",
      "Reviews Stats:\n",
      "count    1.430606e+07\n",
      "mean     2.876738e+00\n",
      "std      7.987421e+00\n",
      "min      0.000000e+00\n",
      "25%      1.000000e+00\n",
      "50%      1.000000e+00\n",
      "75%      3.000000e+00\n",
      "max      6.045000e+03\n",
      "Name: reviews, dtype: float64\n"
     ]
    },
    {
     "data": {
      "image/png": "[encoded data removed]",
      "text/plain": [
       "<Figure size 1200x600 with 2 Axes>"
      ]
     },
     "metadata": {},
     "output_type": "display_data"
    }
   ],
   "source": [
    "import pandas as pd\n",
    "import matplotlib.pyplot as plt\n",
    "\n",
    "# 读取数据\n",
    "users_df = pd.read_csv('../data/users.csv')\n",
    "\n",
    "# 生成统计信息\n",
    "products_stats = users_df['products'].describe()\n",
    "reviews_stats = users_df['reviews'].describe()\n",
    "\n",
    "print(\"Products Stats:\")\n",
    "print(products_stats)\n",
    "print(\"\\nReviews Stats:\")\n",
    "print(reviews_stats)"
   ]
  },
  {
   "cell_type": "code",
   "execution_count": 5,
   "metadata": {},
   "outputs": [
    {
     "name": "stdout",
     "output_type": "stream",
     "text": [
      "count    1.378106e+07\n",
      "mean     2.986330e+00\n",
      "std      8.118011e+00\n",
      "min      1.000000e+00\n",
      "25%      1.000000e+00\n",
      "50%      1.000000e+00\n",
      "75%      3.000000e+00\n",
      "max      6.045000e+03\n",
      "Name: count, dtype: float64\n"
     ]
    }
   ],
   "source": [
    "# 查看recomendations.csv中user_id对应的review数量是否和users.csv中的一致\n",
    "recommendations_df = pd.read_csv('../data/recommendations.csv')\n",
    "reviews_per_user = recommendations_df['user_id'].value_counts()\n",
    "print(reviews_per_user.describe())"
   ]
  }
 ],
 "metadata": {
  "kernelspec": {
   "display_name": "base",
   "language": "python",
   "name": "python3"
  },
  "language_info": {
   "codemirror_mode": {
    "name": "ipython",
    "version": 3
   },
   "file_extension": ".py",
   "mimetype": "text/x-python",
   "name": "python",
   "nbconvert_exporter": "python",
   "pygments_lexer": "ipython3",
   "version": "3.12.2"
  }
 },
 "nbformat": 4,
 "nbformat_minor": 2
}
